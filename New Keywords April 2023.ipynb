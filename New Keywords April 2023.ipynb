{
 "cells": [
  {
   "attachments": {},
   "cell_type": "markdown",
   "id": "71f3abdf",
   "metadata": {},
   "source": [
    "## File Import: \"evolutionary game theory\""
   ]
  },
  {
   "cell_type": "code",
   "execution_count": 1,
   "id": "3107bba4",
   "metadata": {},
   "outputs": [],
   "source": [
    "import pandas as pd\n",
    "import matplotlib.pyplot as plt\n",
    "import seaborn as sns\n",
    "\n",
    "# pd.set_option('display.max_columns', None)\n",
    "\n",
    "path = \"C:/Users/kleinow/ownCloud/!PROJECT EVOLGATH/Evolgath/updated_sql_search\""
   ]
  },
  {
   "cell_type": "code",
   "execution_count": 2,
   "id": "2e92faf0",
   "metadata": {},
   "outputs": [
    {
     "data": {
      "text/plain": [
       "(3464, 52)"
      ]
     },
     "execution_count": 2,
     "metadata": {},
     "output_type": "execute_result"
    }
   ],
   "source": [
    "# items\n",
    "evolgath = pd.read_csv(path + '/evolgath.csv')\n",
    "evolgath_items_ab = pd.read_csv(path + '/evolgath_items_ab.csv')\n",
    "evolgath_titles = pd.read_csv(path + '/evolgath_titles.csv')\n",
    "# abstracts\n",
    "evolgath_kw_abstracts = pd.read_csv(path + '/evolgath_kw_abstracts.csv')\n",
    "evolgath_abstract = pd.read_csv(path + '/evolgath_abstract.csv')\n",
    "evolgath_titles_abstracts = pd.read_csv(path + '/evolgath_titles_abstracts.csv')\n",
    "\n",
    "# Add additional columns to data frames\n",
    "evolgath = evolgath.assign(found_in='keywords')\n",
    "evolgath_items_ab = evolgath_items_ab.assign(found_in='abstract')\n",
    "evolgath_titles = evolgath_titles.assign(found_in='title')\n",
    "\n",
    "evolgath = evolgath.merge(evolgath_kw_abstracts, on='item_id', how='left')\n",
    "evolgath_items_ab = evolgath_items_ab.merge(evolgath_abstract, on='item_id', how='left')\n",
    "evolgath_titles = evolgath_titles.merge(evolgath_titles_abstracts, on='item_id', how='left')\n",
    "\n",
    "evolgath_df = pd.concat([evolgath, evolgath_items_ab, evolgath_titles], ignore_index=True)\n",
    "\n",
    "evolgath_df.head()\n",
    "evolgath_df.shape"
   ]
  },
  {
   "attachments": {},
   "cell_type": "markdown",
   "id": "ed8c348f",
   "metadata": {},
   "source": [
    "## File Import: \"emergence of cooperation\" and \"evolution of cooperation\""
   ]
  },
  {
   "cell_type": "code",
   "execution_count": 3,
   "id": "1e404918",
   "metadata": {},
   "outputs": [
    {
     "data": {
      "text/plain": [
       "(443, 52)"
      ]
     },
     "execution_count": 3,
     "metadata": {},
     "output_type": "execute_result"
    }
   ],
   "source": [
    "# items\n",
    "emcoop = pd.read_csv(path + '/emcoop.csv')\n",
    "emcoop_items_ab = pd.read_csv(path + '/emcoop_items_ab.csv')\n",
    "emcoop_titles = pd.read_csv(path + '/emcoop_titles.csv')\n",
    "# abstracts\n",
    "emcoop_kw_abstracts = pd.read_csv(path + '/emcoop_kw_abstracts.csv')\n",
    "emcoop_abstract = pd.read_csv(path + '/emcoop_abstract.csv')\n",
    "emcoop_titles_abstracts = pd.read_csv(path + '/emcoop_titles_abstracts.csv')\n",
    "\n",
    "# Add additional columns to data frames\n",
    "emcoop = emcoop.assign(found_in='keywords')\n",
    "emcoop_items_ab = emcoop_items_ab.assign(found_in='abstract')\n",
    "emcoop_titles = emcoop_titles.assign(found_in='title')\n",
    "\n",
    "emcoop = emcoop.merge(emcoop_kw_abstracts, on='item_id', how='left')\n",
    "emcoop_items_ab = emcoop_items_ab.merge(emcoop_abstract, on='item_id', how='left')\n",
    "emcoop_titles = emcoop_titles.merge(emcoop_titles_abstracts, on='item_id', how='left')\n",
    "\n",
    "emcoop_df = pd.concat([emcoop, emcoop_items_ab, emcoop_titles], ignore_index=True)\n",
    "emcoop_df.head()\n",
    "emcoop_df.shape"
   ]
  },
  {
   "cell_type": "code",
   "execution_count": 4,
   "id": "99ee8d9a",
   "metadata": {},
   "outputs": [
    {
     "data": {
      "text/plain": [
       "(2175, 52)"
      ]
     },
     "execution_count": 4,
     "metadata": {},
     "output_type": "execute_result"
    }
   ],
   "source": [
    "# items\n",
    "evolcoop = pd.read_csv(path + '/evolcoop.csv')\n",
    "evolcoop_items_ab = pd.read_csv(path + '/evolcoop_items_ab.csv')\n",
    "evolcoop_titles = pd.read_csv(path + '/evolcoop_titles.csv')\n",
    "# abstracts\n",
    "evolcoop_kw_abstracts = pd.read_csv(path + '/evolcoop_kw_abstracts.csv')\n",
    "evolcoop_abstract = pd.read_csv(path + '/evolcoop_abstract.csv')\n",
    "evolcoop_titles_abstracts = pd.read_csv(path + '/evolcoop_titles_abstracts.csv')\n",
    "\n",
    "# Add additional columns to data frames\n",
    "evolcoop = evolcoop.assign(found_in='keywords')\n",
    "evolcoop_items_ab = evolcoop_items_ab.assign(found_in='abstract')\n",
    "evolcoop_titles = evolcoop_titles.assign(found_in='title')\n",
    "\n",
    "evolcoop = evolcoop.merge(evolcoop_kw_abstracts, on='item_id', how='left')\n",
    "evolcoop_items_ab = evolcoop_items_ab.merge(evolcoop_abstract, on='item_id', how='left')\n",
    "evolcoop_titles = evolcoop_titles.merge(evolcoop_titles_abstracts, on='item_id', how='left')\n",
    "\n",
    "evolcoop_df = pd.concat([evolcoop, evolcoop_items_ab, evolcoop_titles], ignore_index=True)\n",
    "evolcoop_df.head()\n",
    "evolcoop_df.shape"
   ]
  },
  {
   "cell_type": "code",
   "execution_count": 6,
   "id": "69d8b52c",
   "metadata": {},
   "outputs": [],
   "source": [
    "coop_df = pd.concat([evolcoop_df, emcoop_df], ignore_index=True)\n",
    "coop_df.shape\n",
    "\n",
    "evolgath_df.to_csv('evolgath_df.csv', index=False)\n",
    "emcoop_df.to_csv('emcoop_df.csv', index=False)\n",
    "evolcoop_df.to_csv('evolcoop_df.csv', index=False)\n",
    "coop_df.to_csv('coop_df.csv', index=False)\n",
    "\n",
    "# combine emcoop and evolcoop and export as datasets"
   ]
  },
  {
   "attachments": {},
   "cell_type": "markdown",
   "id": "2199dff0",
   "metadata": {},
   "source": [
    "## Compare number of articles for each query phrase"
   ]
  },
  {
   "cell_type": "code",
   "execution_count": 7,
   "id": "49665f3e",
   "metadata": {},
   "outputs": [
    {
     "name": "stderr",
     "output_type": "stream",
     "text": [
      "C:\\Users\\kleinow\\AppData\\Local\\Temp\\ipykernel_18672\\1191219247.py:16: FutureWarning: The frame.append method is deprecated and will be removed from pandas in a future version. Use pandas.concat instead.\n",
      "  total_citing = total_citing.append(pd.DataFrame(found_in_counts))\n"
     ]
    },
    {
     "data": {
      "text/html": [
       "<div>\n",
       "<style scoped>\n",
       "    .dataframe tbody tr th:only-of-type {\n",
       "        vertical-align: middle;\n",
       "    }\n",
       "\n",
       "    .dataframe tbody tr th {\n",
       "        vertical-align: top;\n",
       "    }\n",
       "\n",
       "    .dataframe thead th {\n",
       "        text-align: right;\n",
       "    }\n",
       "</style>\n",
       "<table border=\"1\" class=\"dataframe\">\n",
       "  <thead>\n",
       "    <tr style=\"text-align: right;\">\n",
       "      <th></th>\n",
       "      <th>evolgath_df</th>\n",
       "      <th>emcoop_df</th>\n",
       "      <th>evolcoop_df</th>\n",
       "      <th>coop_df</th>\n",
       "    </tr>\n",
       "  </thead>\n",
       "  <tbody>\n",
       "    <tr>\n",
       "      <th>Articles Citing</th>\n",
       "      <td>3464</td>\n",
       "      <td>443</td>\n",
       "      <td>2175</td>\n",
       "      <td>2618</td>\n",
       "    </tr>\n",
       "    <tr>\n",
       "      <th>abstract</th>\n",
       "      <td>1788</td>\n",
       "      <td>383</td>\n",
       "      <td>1500</td>\n",
       "      <td>1883</td>\n",
       "    </tr>\n",
       "    <tr>\n",
       "      <th>keywords</th>\n",
       "      <td>1501</td>\n",
       "      <td>18</td>\n",
       "      <td>326</td>\n",
       "      <td>344</td>\n",
       "    </tr>\n",
       "    <tr>\n",
       "      <th>title</th>\n",
       "      <td>175</td>\n",
       "      <td>42</td>\n",
       "      <td>349</td>\n",
       "      <td>391</td>\n",
       "    </tr>\n",
       "  </tbody>\n",
       "</table>\n",
       "</div>"
      ],
      "text/plain": [
       "                 evolgath_df  emcoop_df  evolcoop_df  coop_df\n",
       "Articles Citing         3464        443         2175     2618\n",
       "abstract                1788        383         1500     1883\n",
       "keywords                1501         18          326      344\n",
       "title                    175         42          349      391"
      ]
     },
     "execution_count": 7,
     "metadata": {},
     "output_type": "execute_result"
    }
   ],
   "source": [
    "row_lengths = {\n",
    "    'evolgath_df': len(evolgath_df),\n",
    "    'emcoop_df': len(emcoop_df),\n",
    "    'evolcoop_df': len(evolcoop_df),\n",
    "    'coop_df': len(coop_df)\n",
    "}\n",
    "\n",
    "found_in_counts = {\n",
    "    'evolgath_df': evolgath_df['found_in'].value_counts(),\n",
    "    'emcoop_df': emcoop_df['found_in'].value_counts(),\n",
    "    'evolcoop_df': evolcoop_df['found_in'].value_counts(),\n",
    "    'coop_df': coop_df['found_in'].value_counts()\n",
    "}\n",
    "\n",
    "total_citing = pd.DataFrame(row_lengths, index=['Articles Citing'])\n",
    "total_citing = total_citing.append(pd.DataFrame(found_in_counts))\n",
    "\n",
    "total_citing"
   ]
  },
  {
   "cell_type": "code",
   "execution_count": 10,
   "id": "acd9e804",
   "metadata": {},
   "outputs": [],
   "source": [
    "coop_ids= set(coop_df[\"item_id\"])\n",
    "evol_ids= set(evolgath_df[\"item_id\"])"
   ]
  },
  {
   "cell_type": "code",
   "execution_count": 13,
   "id": "1aa5ebc7",
   "metadata": {},
   "outputs": [
    {
     "data": {
      "text/plain": [
       "264"
      ]
     },
     "execution_count": 13,
     "metadata": {},
     "output_type": "execute_result"
    }
   ],
   "source": [
    "len(coop_ids.difference(evol_ids))\n",
    "len(coop_ids.intersection(evol_ids))"
   ]
  },
  {
   "attachments": {},
   "cell_type": "markdown",
   "id": "88591093",
   "metadata": {},
   "source": [
    "## Overview Publication Years: Articles citing"
   ]
  },
  {
   "cell_type": "code",
   "execution_count": 10,
   "id": "30be3ae4",
   "metadata": {},
   "outputs": [
    {
     "data": {
      "image/png": "[encoded data removed]",
      "text/plain": [
       "<Figure size 1500x500 with 3 Axes>"
      ]
     },
     "metadata": {},
     "output_type": "display_data"
    }
   ],
   "source": [
    "fig, axs = plt.subplots(1, 3, figsize=(15,5))\n",
    "\n",
    "evolgath_df.hist(column='pubyear', bins=30, ax=axs[0], edgecolor='black')\n",
    "axs[0].set_title('evolgath_df')\n",
    "\n",
    "emcoop_df.hist(column='pubyear', bins=30, ax=axs[1], edgecolor='black')\n",
    "axs[1].set_title('emcoop_df')\n",
    "\n",
    "evolcoop_df.hist(column='pubyear', bins=30, ax=axs[2], edgecolor='black')\n",
    "axs[2].set_title('evolcoop_df')\n",
    "\n",
    "fig.suptitle('Publication Year of Citing Articles')\n",
    "\n",
    "plt.show()"
   ]
  },
  {
   "cell_type": "code",
   "execution_count": 11,
   "id": "79caae54",
   "metadata": {},
   "outputs": [
    {
     "data": {
      "image/png": "[encoded data removed]",
      "text/plain": [
       "<Figure size 1500x500 with 3 Axes>"
      ]
     },
     "metadata": {},
     "output_type": "display_data"
    }
   ],
   "source": [
    "# With shared Y axis\n",
    "fig, axs = plt.subplots(1, 3, figsize=(15, 5), sharey=True)\n",
    "\n",
    "evolgath_df.hist(column='pubyear', bins=30, ax=axs[0], edgecolor='black')\n",
    "axs[0].set_title('evolgath_df')\n",
    "axs[0].set_ylim([0, 500])\n",
    "\n",
    "emcoop_df.hist(column='pubyear', bins=30, ax=axs[1], edgecolor='black')\n",
    "axs[1].set_title('emcoop_df')\n",
    "axs[1].set_ylim([0, 500])\n",
    "\n",
    "evolcoop_df.hist(column='pubyear', bins=30, ax=axs[2], edgecolor='black')\n",
    "axs[2].set_title('evolcoop_df')\n",
    "axs[2].set_ylim([0, 500])\n",
    "\n",
    "fig.suptitle('Publication Year of Citing Articles')\n",
    "\n",
    "plt.show()"
   ]
  },
  {
   "cell_type": "code",
   "execution_count": null,
   "id": "3ebe6059",
   "metadata": {},
   "outputs": [],
   "source": []
  },
  {
   "cell_type": "code",
   "execution_count": 12,
   "id": "4b00f5ef",
   "metadata": {},
   "outputs": [
    {
     "data": {
      "image/png": "[encoded data removed]",
      "text/plain": [
       "<Figure size 640x480 with 1 Axes>"
      ]
     },
     "metadata": {},
     "output_type": "display_data"
    }
   ],
   "source": [
    "fig, ax = plt.subplots()\n",
    "\n",
    "# Define the colormap for the histograms\n",
    "import matplotlib.cm as cm\n",
    "colormap = cm.Blues([0.2, 0.4, 0.7])\n",
    "\n",
    "# Plot the histograms for each dataframe\n",
    "evolgath_df.hist(column='pubyear', bins=30, color=colormap[0], ax=ax, alpha=0.9, label='evolgath_df')\n",
    "emcoop_df.hist(column='pubyear', bins=30, color=colormap[1], ax=ax, label='emcoop_df')\n",
    "evolcoop_df.hist(column='pubyear', bins=30, color=colormap[2], ax=ax, alpha=0.5, label='evolcoop_df')\n",
    "\n",
    "ax.set_title('Publication Year of Citing Articles')\n",
    "ax.set_xlabel('Publication Year')\n",
    "ax.set_ylabel('Count')\n",
    "ax.legend()\n",
    "\n",
    "plt.show()"
   ]
  },
  {
   "attachments": {},
   "cell_type": "markdown",
   "id": "db4ea19f",
   "metadata": {},
   "source": [
    "Overview item_type"
   ]
  },
  {
   "cell_type": "code",
   "execution_count": 37,
   "id": "426173a7",
   "metadata": {},
   "outputs": [
    {
     "data": {
      "text/html": [
       "<div>\n",
       "<style scoped>\n",
       "    .dataframe tbody tr th:only-of-type {\n",
       "        vertical-align: middle;\n",
       "    }\n",
       "\n",
       "    .dataframe tbody tr th {\n",
       "        vertical-align: top;\n",
       "    }\n",
       "\n",
       "    .dataframe thead th {\n",
       "        text-align: right;\n",
       "    }\n",
       "</style>\n",
       "<table border=\"1\" class=\"dataframe\">\n",
       "  <thead>\n",
       "    <tr style=\"text-align: right;\">\n",
       "      <th></th>\n",
       "      <th>evolgath</th>\n",
       "      <th>emcoop</th>\n",
       "      <th>evolcoop</th>\n",
       "      <th>coop</th>\n",
       "    </tr>\n",
       "  </thead>\n",
       "  <tbody>\n",
       "    <tr>\n",
       "      <th>{Article}</th>\n",
       "      <td>2533.0</td>\n",
       "      <td>369.0</td>\n",
       "      <td>1847.0</td>\n",
       "      <td>2216.0</td>\n",
       "    </tr>\n",
       "    <tr>\n",
       "      <th>{\"Proceedings Paper\"}</th>\n",
       "      <td>724.0</td>\n",
       "      <td>53.0</td>\n",
       "      <td>193.0</td>\n",
       "      <td>246.0</td>\n",
       "    </tr>\n",
       "    <tr>\n",
       "      <th>{Review}</th>\n",
       "      <td>75.0</td>\n",
       "      <td>4.0</td>\n",
       "      <td>66.0</td>\n",
       "      <td>70.0</td>\n",
       "    </tr>\n",
       "    <tr>\n",
       "      <th>{Article,\"Proceedings Paper\"}</th>\n",
       "      <td>55.0</td>\n",
       "      <td>15.0</td>\n",
       "      <td>26.0</td>\n",
       "      <td>41.0</td>\n",
       "    </tr>\n",
       "    <tr>\n",
       "      <th>{Article,\"Early Access\"}</th>\n",
       "      <td>42.0</td>\n",
       "      <td>1.0</td>\n",
       "      <td>5.0</td>\n",
       "      <td>6.0</td>\n",
       "    </tr>\n",
       "    <tr>\n",
       "      <th>{\"Editorial Material\"}</th>\n",
       "      <td>20.0</td>\n",
       "      <td>NaN</td>\n",
       "      <td>18.0</td>\n",
       "      <td>18.0</td>\n",
       "    </tr>\n",
       "    <tr>\n",
       "      <th>{Review,\"Book Chapter\"}</th>\n",
       "      <td>3.0</td>\n",
       "      <td>NaN</td>\n",
       "      <td>NaN</td>\n",
       "      <td>NaN</td>\n",
       "    </tr>\n",
       "    <tr>\n",
       "      <th>{Article,\"Book Chapter\"}</th>\n",
       "      <td>3.0</td>\n",
       "      <td>NaN</td>\n",
       "      <td>NaN</td>\n",
       "      <td>NaN</td>\n",
       "    </tr>\n",
       "    <tr>\n",
       "      <th>{\"Meeting Abstract\"}</th>\n",
       "      <td>2.0</td>\n",
       "      <td>NaN</td>\n",
       "      <td>2.0</td>\n",
       "      <td>2.0</td>\n",
       "    </tr>\n",
       "    <tr>\n",
       "      <th>{Letter}</th>\n",
       "      <td>2.0</td>\n",
       "      <td>1.0</td>\n",
       "      <td>NaN</td>\n",
       "      <td>1.0</td>\n",
       "    </tr>\n",
       "    <tr>\n",
       "      <th>{Biographical-Item}</th>\n",
       "      <td>2.0</td>\n",
       "      <td>NaN</td>\n",
       "      <td>NaN</td>\n",
       "      <td>NaN</td>\n",
       "    </tr>\n",
       "    <tr>\n",
       "      <th>{Review,\"Early Access\"}</th>\n",
       "      <td>1.0</td>\n",
       "      <td>NaN</td>\n",
       "      <td>NaN</td>\n",
       "      <td>NaN</td>\n",
       "    </tr>\n",
       "    <tr>\n",
       "      <th>{\"News Item\"}</th>\n",
       "      <td>1.0</td>\n",
       "      <td>NaN</td>\n",
       "      <td>NaN</td>\n",
       "      <td>NaN</td>\n",
       "    </tr>\n",
       "    <tr>\n",
       "      <th>{Correction}</th>\n",
       "      <td>1.0</td>\n",
       "      <td>NaN</td>\n",
       "      <td>3.0</td>\n",
       "      <td>3.0</td>\n",
       "    </tr>\n",
       "    <tr>\n",
       "      <th>{\"Book Review\"}</th>\n",
       "      <td>NaN</td>\n",
       "      <td>NaN</td>\n",
       "      <td>14.0</td>\n",
       "      <td>14.0</td>\n",
       "    </tr>\n",
       "    <tr>\n",
       "      <th>{\"Correction, Addition\"}</th>\n",
       "      <td>NaN</td>\n",
       "      <td>NaN</td>\n",
       "      <td>1.0</td>\n",
       "      <td>1.0</td>\n",
       "    </tr>\n",
       "  </tbody>\n",
       "</table>\n",
       "</div>"
      ],
      "text/plain": [
       "                               evolgath  emcoop  evolcoop    coop\n",
       "{Article}                        2533.0   369.0    1847.0  2216.0\n",
       "{\"Proceedings Paper\"}             724.0    53.0     193.0   246.0\n",
       "{Review}                           75.0     4.0      66.0    70.0\n",
       "{Article,\"Proceedings Paper\"}      55.0    15.0      26.0    41.0\n",
       "{Article,\"Early Access\"}           42.0     1.0       5.0     6.0\n",
       "{\"Editorial Material\"}             20.0     NaN      18.0    18.0\n",
       "{Review,\"Book Chapter\"}             3.0     NaN       NaN     NaN\n",
       "{Article,\"Book Chapter\"}            3.0     NaN       NaN     NaN\n",
       "{\"Meeting Abstract\"}                2.0     NaN       2.0     2.0\n",
       "{Letter}                            2.0     1.0       NaN     1.0\n",
       "{Biographical-Item}                 2.0     NaN       NaN     NaN\n",
       "{Review,\"Early Access\"}             1.0     NaN       NaN     NaN\n",
       "{\"News Item\"}                       1.0     NaN       NaN     NaN\n",
       "{Correction}                        1.0     NaN       3.0     3.0\n",
       "{\"Book Review\"}                     NaN     NaN      14.0    14.0\n",
       "{\"Correction, Addition\"}            NaN     NaN       1.0     1.0"
      ]
     },
     "execution_count": 37,
     "metadata": {},
     "output_type": "execute_result"
    }
   ],
   "source": [
    "evolgath_counts = evolgath_df['item_type'].value_counts()\n",
    "emcoop_counts = emcoop_df['item_type'].value_counts()\n",
    "evolcoop_counts = evolcoop_df['item_type'].value_counts()\n",
    "coop_counts = coop_df['item_type'].value_counts()\n",
    "\n",
    "# Create a dataframe with the counts for each item type\n",
    "df_counts = pd.concat([evolgath_counts, emcoop_counts, evolcoop_counts, coop_counts], axis=1)\n",
    "df_counts.columns = ['evolgath', 'emcoop', 'evolcoop', 'coop']\n",
    "\n",
    "df_counts"
   ]
  },
  {
   "cell_type": "code",
   "execution_count": null,
   "id": "0544a7e0",
   "metadata": {},
   "outputs": [],
   "source": []
  }
 ],
 "metadata": {
  "kernelspec": {
   "display_name": "Python 3 (ipykernel)",
   "language": "python",
   "name": "python3"
  },
  "language_info": {
   "codemirror_mode": {
    "name": "ipython",
    "version": 3
   },
   "file_extension": ".py",
   "mimetype": "text/x-python",
   "name": "python",
   "nbconvert_exporter": "python",
   "pygments_lexer": "ipython3",
   "version": "3.9.13"
  }
 },
 "nbformat": 4,
 "nbformat_minor": 5
}
