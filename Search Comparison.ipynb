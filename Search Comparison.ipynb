{
 "cells": [
  {
   "cell_type": "code",
   "execution_count": 2,
   "id": "16b5ed2a",
   "metadata": {},
   "outputs": [],
   "source": [
    "import pandas as pd"
   ]
  },
  {
   "cell_type": "markdown",
   "id": "bae6f3ef",
   "metadata": {},
   "source": [
    "**Evolutionary Game Theory**"
   ]
  },
  {
   "cell_type": "code",
   "execution_count": 8,
   "id": "4ba032a7",
   "metadata": {},
   "outputs": [],
   "source": [
    "evolgath = pd.read_csv(\"data/items_wos_evolgath_202301271505.csv\")\n",
    "\n",
    "evolgath_titles = pd.read_csv(\"data/evolgath_titles_202304132149.csv\")\n",
    "\n",
    "evolgath_abstracts = pd.read_csv(\"data/evolgath_abstract_202304151320.csv\")"
   ]
  },
  {
   "cell_type": "code",
   "execution_count": 9,
   "id": "e171930f",
   "metadata": {},
   "outputs": [
    {
     "data": {
      "text/plain": [
       "(1501, 175, 1788)"
      ]
     },
     "execution_count": 9,
     "metadata": {},
     "output_type": "execute_result"
    }
   ],
   "source": [
    "evolgath['item_id'].nunique(), evolgath_titles['item_id'].nunique(), evolgath_abstracts['item_id'].nunique()"
   ]
  },
  {
   "cell_type": "code",
   "execution_count": 17,
   "id": "0f7150e2",
   "metadata": {},
   "outputs": [
    {
     "data": {
      "text/plain": [
       "3464"
      ]
     },
     "execution_count": 17,
     "metadata": {},
     "output_type": "execute_result"
    }
   ],
   "source": [
    "ungath = list(evolgath['item_id'].unique()) + list(evolgath_titles['item_id'].unique()) + list(evolgath_abstracts['item_id'].unique())\n",
    "\n",
    "len(ungath)"
   ]
  },
  {
   "cell_type": "markdown",
   "id": "7ab26fce",
   "metadata": {},
   "source": [
    "**Evolution of cooperation**"
   ]
  },
  {
   "cell_type": "code",
   "execution_count": 22,
   "id": "78186c79",
   "metadata": {},
   "outputs": [],
   "source": [
    "evolcoop = pd.read_csv(\"data/items_wos_evolcoop_202304132148.csv\")\n",
    "\n",
    "evolcoop_titles = pd.read_csv(\"data/evolcoop_titles_202304132150.csv\")\n",
    "\n",
    "evolcoop_abstracts = pd.read_csv(\"data/evolcoop_abstract_202304151325.csv\")"
   ]
  },
  {
   "cell_type": "code",
   "execution_count": 23,
   "id": "8cd43d29",
   "metadata": {},
   "outputs": [
    {
     "data": {
      "text/plain": [
       "(326, 349, 1500)"
      ]
     },
     "execution_count": 23,
     "metadata": {},
     "output_type": "execute_result"
    }
   ],
   "source": [
    "evolcoop['item_id'].nunique(), evolcoop_titles['item_id'].nunique(), evolcoop_abstracts['item_id'].nunique()"
   ]
  },
  {
   "cell_type": "code",
   "execution_count": 24,
   "id": "afc09675",
   "metadata": {},
   "outputs": [
    {
     "data": {
      "text/plain": [
       "2175"
      ]
     },
     "execution_count": 24,
     "metadata": {},
     "output_type": "execute_result"
    }
   ],
   "source": [
    "uncoop = list(evolcoop['item_id'].unique()) + list(evolcoop_titles['item_id'].unique()) + list(evolcoop_abstracts['item_id'].unique())\n",
    "\n",
    "len(uncoop)"
   ]
  },
  {
   "cell_type": "markdown",
   "id": "007b6476",
   "metadata": {},
   "source": [
    "**Emergence of cooperation**"
   ]
  },
  {
   "cell_type": "code",
   "execution_count": 25,
   "id": "0af6c65f",
   "metadata": {},
   "outputs": [],
   "source": [
    "emcoop = pd.read_csv(\"data/items_wos_emcoop_202304151329.csv\")\n",
    "\n",
    "emcoop_titles = pd.read_csv(\"data/emcoop_titles_202304151329.csv\")\n",
    "\n",
    "emcoop_abstracts = pd.read_csv(\"data/emcoop_abstract_202304151329.csv\")"
   ]
  },
  {
   "cell_type": "code",
   "execution_count": 26,
   "id": "c769c418",
   "metadata": {},
   "outputs": [
    {
     "data": {
      "text/plain": [
       "(18, 42, 383)"
      ]
     },
     "execution_count": 26,
     "metadata": {},
     "output_type": "execute_result"
    }
   ],
   "source": [
    "emcoop['item_id'].nunique(), emcoop_titles['item_id'].nunique(), emcoop_abstracts['item_id'].nunique()"
   ]
  },
  {
   "cell_type": "code",
   "execution_count": 27,
   "id": "7c29b252",
   "metadata": {},
   "outputs": [
    {
     "data": {
      "text/plain": [
       "443"
      ]
     },
     "execution_count": 27,
     "metadata": {},
     "output_type": "execute_result"
    }
   ],
   "source": [
    "unem = list(emcoop['item_id'].unique()) + list(emcoop_titles['item_id'].unique()) + list(emcoop_abstracts['item_id'].unique())\n",
    "\n",
    "len(unem)"
   ]
  },
  {
   "cell_type": "code",
   "execution_count": 30,
   "id": "de3aa39a",
   "metadata": {},
   "outputs": [
    {
     "data": {
      "text/plain": [
       "2141"
      ]
     },
     "execution_count": 30,
     "metadata": {},
     "output_type": "execute_result"
    }
   ],
   "source": [
    "len(list(set(uncoop + unem)))"
   ]
  },
  {
   "cell_type": "markdown",
   "id": "dd9ede28",
   "metadata": {},
   "source": [
    "**Intersection**"
   ]
  },
  {
   "cell_type": "code",
   "execution_count": 38,
   "id": "b10328db",
   "metadata": {},
   "outputs": [
    {
     "data": {
      "text/plain": [
       "264"
      ]
     },
     "execution_count": 38,
     "metadata": {},
     "output_type": "execute_result"
    }
   ],
   "source": [
    "len(set(ungath).intersection(set(uncoop + unem)))"
   ]
  },
  {
   "cell_type": "code",
   "execution_count": null,
   "id": "4c4c368e",
   "metadata": {},
   "outputs": [],
   "source": []
  }
 ],
 "metadata": {
  "kernelspec": {
   "display_name": "hiwi",
   "language": "python",
   "name": "hiwi"
  },
  "language_info": {
   "codemirror_mode": {
    "name": "ipython",
    "version": 3
   },
   "file_extension": ".py",
   "mimetype": "text/x-python",
   "name": "python",
   "nbconvert_exporter": "python",
   "pygments_lexer": "ipython3",
   "version": "3.9.16"
  }
 },
 "nbformat": 4,
 "nbformat_minor": 5
}
